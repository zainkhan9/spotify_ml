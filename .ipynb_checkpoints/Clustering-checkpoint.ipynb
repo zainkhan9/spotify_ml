{
 "cells": [
  {
   "cell_type": "code",
   "execution_count": 56,
   "metadata": {},
   "outputs": [],
   "source": [
    "import pandas as pd\n",
    "import numpy as np\n",
    "from sklearn.decomposition import PCA\n",
    "import matplotlib.pyplot as plt"
   ]
  },
  {
   "cell_type": "code",
   "execution_count": 2,
   "metadata": {},
   "outputs": [],
   "source": [
    "dat = pd.read_csv(\"archive/data.csv\")\n",
    "dat_artist = pd.read_csv(\"archive/data_by_artist.csv\")\n",
    "dat_genres = pd.read_csv(\"archive/data_by_genres.csv\")\n",
    "dat_year = pd.read_csv(\"archive/data_by_year.csv\")\n",
    "dat_w_genres = pd.read_csv(\"archive/data_w_genres.csv\")"
   ]
  },
  {
   "cell_type": "code",
   "execution_count": 43,
   "metadata": {},
   "outputs": [],
   "source": [
    "def query_artist(artist):\n",
    "    return [True if dat[\"artists\"][i] == [artist] else False for i in range(len(dat[\"artists\"]))]\n",
    "\n",
    "dat[\"artists\"] = dat[\"artists\"].apply(lambda x: x.replace(\"'\", \"\").strip('][').split(', '))"
   ]
  },
  {
   "cell_type": "code",
   "execution_count": 44,
   "metadata": {},
   "outputs": [
    {
     "data": {
      "text/plain": [
       "9                \"Weird Al\" Yankovic\n",
       "19                      'Til Tuesday\n",
       "20                         ((( O )))\n",
       "23                          (G)I-DLE\n",
       "25                            *NSYNC\n",
       "27                                 -\n",
       "34                    10,000 Maniacs\n",
       "35                          100 gecs\n",
       "38                              10cc\n",
       "40                               112\n",
       "41                             11:11\n",
       "49             1910 Fruitgum Company\n",
       "50                  1986 Omega Tribe\n",
       "52       2 Brothers On The 4th Floor\n",
       "53                          2 Chainz\n",
       "59                         2 Pistols\n",
       "60                       2 Unlimited\n",
       "72                          24kGoldn\n",
       "74                             2Baba\n",
       "75                           2CELLOS\n",
       "77                              2NE1\n",
       "85                      3 Doors Down\n",
       "90                               311\n",
       "95                              3LAU\n",
       "96                               3LW\n",
       "97                             3OH!3\n",
       "103                    4 Non Blondes\n",
       "115                          4Minute\n",
       "116              5 Seconds of Summer\n",
       "117                          50 Cent\n",
       "                    ...             \n",
       "27548                             尤雅\n",
       "27551                            巫啟賢\n",
       "27555                            張洪量\n",
       "27557                            張琍敏\n",
       "27559                            張艾嘉\n",
       "27560                             張露\n",
       "27561                            彭家麗\n",
       "27568                            李壽全\n",
       "27570                            李建復\n",
       "27572                            李麗芬\n",
       "27573                            林慧萍\n",
       "27574                            林隆璇\n",
       "27577                            湯寶如\n",
       "27579                            潘安邦\n",
       "27580                            潘越雲\n",
       "27583                            王夢麟\n",
       "27589                             白光\n",
       "27591                            秋元薫\n",
       "27592                            童安格\n",
       "27594                             紫薇\n",
       "27595                            羅大佑\n",
       "27597                             葉歡\n",
       "27599                            蔡楓華\n",
       "27600                            蔣志光\n",
       "27601                            藍戰士\n",
       "27605                            辛曉琪\n",
       "27606                             那英\n",
       "27608                             鄭怡\n",
       "27616                            鳳飛飛\n",
       "27617                            黃品源\n",
       "Name: artists, Length: 5343, dtype: object"
      ]
     },
     "execution_count": 44,
     "metadata": {},
     "output_type": "execute_result"
    }
   ],
   "source": [
    "classical_artists = dat_w_genres[[True if \"classical\" in dat_w_genres.loc[i,\"genres\"] else False for i in range(len(dat_w_genres))]]\n",
    "\n",
    "pop_artists = dat_w_genres[[True if \"pop\" in dat_w_genres.loc[i,\"genres\"] else False for i in range(len(dat_w_genres))]][\"artists\"]\n",
    "pop_artists"
   ]
  },
  {
   "cell_type": "code",
   "execution_count": 45,
   "metadata": {},
   "outputs": [
    {
     "data": {
      "text/plain": [
       "179          A Winged Victory for the Sullen\n",
       "202                            A. R. Qureshi\n",
       "261                            Aaron Copland\n",
       "318                 Academy of Ancient Music\n",
       "319      Academy of St. Martin in the Fields\n",
       "407                       Adrianne Pieczonka\n",
       "411                          Adrienne Albert\n",
       "412                            Adrián Patiño\n",
       "453                             Agnes Baltsa\n",
       "454                             Agnes Giebel\n",
       "466                  Agustín Barrios Mangoré\n",
       "500           Akademie für Alte Musik Berlin\n",
       "551                             Alain Planes\n",
       "562                             Alan Gilbert\n",
       "594                               Alban Berg\n",
       "595                      Alban Berg Quartett\n",
       "606                          Albert Lortzing\n",
       "629                                Alcatrazz\n",
       "635                                Alda Noni\n",
       "641                           Aldo Ciccolini\n",
       "646                              Aldo Protti\n",
       "670                      Alessandro Corbelli\n",
       "673                     Alessandro Scarlatti\n",
       "676                              Alessio Bax\n",
       "716                        Alexander Borodin\n",
       "720                   Alexander Gretchaninov\n",
       "724                         Alexander Kipnis\n",
       "726                         Alexander Malter\n",
       "738                       Alexander Scriabin\n",
       "746                        Alexandre Tansman\n",
       "                        ...                 \n",
       "26501                      William Matteuzzi\n",
       "26510                       William Primrose\n",
       "26524                         William Walton\n",
       "26560                             Wilma Lipp\n",
       "26568                            Wim Mertens\n",
       "26605                Wolfgang Amadeus Mozart\n",
       "26611                         Wolfgang Meyer\n",
       "26613                        Wolfgang Rübsam\n",
       "26618                    Wolfgang Windgassen\n",
       "26646                             Wordsworth\n",
       "26670                        Wynton Marsalis\n",
       "26677                                 X-Clan\n",
       "26740                                  YUNDI\n",
       "26774                       Yasunori Mitsuda\n",
       "26787                         Yefim Bronfman\n",
       "26790                         Yehudi Menuhin\n",
       "26808                             Ying Huang\n",
       "26812                                 Yiruma\n",
       "26816                       Yngwie Malmsteen\n",
       "26902                              Yuja Wang\n",
       "26931                           Yuri Bashmet\n",
       "26994                          Zakir Hussain\n",
       "27053                          Zinka Milanov\n",
       "27064                                   Zoel\n",
       "27073                          Zoltán Kocsis\n",
       "27074                          Zoltán Kodály\n",
       "27087                            Zubin Mehta\n",
       "27153                               frederic\n",
       "27271                  Étienne Nicolas Méhul\n",
       "27276                         Ólafur Arnalds\n",
       "Name: artists, Length: 1022, dtype: object"
      ]
     },
     "execution_count": 45,
     "metadata": {},
     "output_type": "execute_result"
    }
   ],
   "source": [
    "classical_artists = classical_artists[\"artists\"]\n",
    "classical_artists"
   ]
  },
  {
   "cell_type": "code",
   "execution_count": 66,
   "metadata": {},
   "outputs": [
    {
     "data": {
      "text/plain": [
       "84       2nd South Carolina String Band\n",
       "93                           38 Special\n",
       "173                   A Thousand Horses\n",
       "267                         Aaron Lewis\n",
       "274                        Aaron Tippin\n",
       "276                        Aaron Watson\n",
       "287                       Abby Anderson\n",
       "345                        Adam Calhoun\n",
       "347                        Adam Carroll\n",
       "349                         Adam Doleac\n",
       "354                           Adam Hood\n",
       "502                                Akin\n",
       "519            Al Dexter & His Troopers\n",
       "531                           Al Kooper\n",
       "534                          Al Stewart\n",
       "539                             Alabama\n",
       "566                        Alan Jackson\n",
       "658                  Alejandro Escovedo\n",
       "713             Alexander 'Skip' Spence\n",
       "723                      Alexander King\n",
       "913                           Alvin Lee\n",
       "937                       Amanda Shires\n",
       "943                 Amazing Rhythm Aces\n",
       "953                            Ambrosia\n",
       "1035                     Anders Osborne\n",
       "1133                      Andy Griffith\n",
       "1134                        Andy Griggs\n",
       "1236                            Ann Lee\n",
       "1281                        Anne Murray\n",
       "1460                         April Wine\n",
       "                      ...              \n",
       "26264                     Warren Haynes\n",
       "26268                      Warren Zevon\n",
       "26288                   Waylon Jennings\n",
       "26291                     Wayne Hancock\n",
       "26354                               Wet\n",
       "26355                       Wet Wet Wet\n",
       "26356                        Wet Willie\n",
       "26361                Wheeler Walker Jr.\n",
       "26366                     Whiskey Myers\n",
       "26367                       Whiskeytown\n",
       "26395        Whitey Morgan and the 78's\n",
       "26396                           Whitley\n",
       "26423                             Wilco\n",
       "26480               William Clark Green\n",
       "26504            William Michael Morgan\n",
       "26518                        William So\n",
       "26539                    Willie Johnson\n",
       "26543                     Willie Nelson\n",
       "26547                       Willie Nile\n",
       "26554                Willis Alan Ramsey\n",
       "26666                           Wynonna\n",
       "26856                       Young Chris\n",
       "26863                      Young Gunner\n",
       "26964                            ZZ Top\n",
       "26967                         Zac Brown\n",
       "26968                    Zac Brown Band\n",
       "26973                        Zach Bryan\n",
       "27147                              eli.\n",
       "27183                         k.d. lang\n",
       "27229                      sKitz Kraven\n",
       "Name: artists, Length: 1108, dtype: object"
      ]
     },
     "execution_count": 66,
     "metadata": {},
     "output_type": "execute_result"
    }
   ],
   "source": [
    "country_artists = dat_w_genres[[True if \"country\" in dat_w_genres.loc[i,\"genres\"] else False for i in range(len(dat_w_genres))]][\"artists\"]\n",
    "country_artists"
   ]
  },
  {
   "cell_type": "code",
   "execution_count": 67,
   "metadata": {},
   "outputs": [],
   "source": [
    "dat.head()\n",
    "possible_pop = dat[[pop_artists.isin(dat.loc[i, \"artists\"]).any() for i in range(len(dat))]]\n",
    "possible_classical = dat[[classical_artists.isin(dat.loc[i, \"artists\"]).any() for i in range(len(dat))]]\n",
    "possible_country = dat[[country_artists.isin(dat.loc[i, \"artists\"]).any() for i in range(len(dat))]]"
   ]
  },
  {
   "cell_type": "code",
   "execution_count": 68,
   "metadata": {},
   "outputs": [],
   "source": [
    "pop = possible_pop[['acousticness', \n",
    "       'danceability',\n",
    "       'energy',\n",
    "       'danceability', \n",
    "       'explicit',\n",
    "       'instrumentalness', \n",
    "       'key', \n",
    "       'liveness', \n",
    "       'loudness',\n",
    "       'mode', \n",
    "       'speechiness', \n",
    "       'tempo']]\n",
    "\n",
    "classical = possible_classical[['acousticness', \n",
    "       'danceability',\n",
    "       'energy',\n",
    "       'danceability', \n",
    "       'explicit',\n",
    "       'instrumentalness', \n",
    "       'key', \n",
    "       'liveness', \n",
    "       'loudness',\n",
    "       'mode', \n",
    "       'speechiness', \n",
    "       'tempo']]\n",
    "\n",
    "country = possible_country[['acousticness', \n",
    "       'danceability',\n",
    "       'energy',\n",
    "       'danceability', \n",
    "       'explicit',\n",
    "       'instrumentalness', \n",
    "       'key', \n",
    "       'liveness', \n",
    "       'loudness',\n",
    "       'mode', \n",
    "       'speechiness', \n",
    "       'tempo']]\n",
    "\n",
    "X = pd.concat([pop, classical, country])"
   ]
  },
  {
   "cell_type": "code",
   "execution_count": 71,
   "metadata": {},
   "outputs": [
    {
     "data": {
      "text/plain": [
       "[<matplotlib.lines.Line2D at 0x2c75f8eac88>]"
      ]
     },
     "execution_count": 71,
     "metadata": {},
     "output_type": "execute_result"
    },
    {
     "data": {
      "image/png": "[encoded data removed]",
      "text/plain": [
       "<Figure size 432x288 with 1 Axes>"
      ]
     },
     "metadata": {
      "needs_background": "light"
     },
     "output_type": "display_data"
    }
   ],
   "source": [
    "pca = PCA(n_components=12)\n",
    "pca.fit(country)\n",
    "pcavar = pca.explained_variance_ratio_\n",
    "plt.plot(pcavar)"
   ]
  },
  {
   "cell_type": "code",
   "execution_count": 81,
   "metadata": {},
   "outputs": [
    {
     "data": {
      "text/plain": [
       "[<matplotlib.lines.Line2D at 0x2c768c8c3c8>]"
      ]
     },
     "execution_count": 81,
     "metadata": {},
     "output_type": "execute_result"
    },
    {
     "data": {
      "image/png": "[encoded data removed]",
      "text/plain": [
       "<Figure size 432x288 with 1 Axes>"
      ]
     },
     "metadata": {
      "needs_background": "light"
     },
     "output_type": "display_data"
    }
   ],
   "source": [
    "pca_mod = PCA(n_components=1)\n",
    "pcadat = pca_mod.fit_transform(classical)\n",
    "d = pd.DataFrame(data=pcadat, columns=[\"Principal Component 1\"])\n",
    "plt.plot(d[\"Principal Component 1\"], 'bo')"
   ]
  },
  {
   "cell_type": "code",
   "execution_count": null,
   "metadata": {},
   "outputs": [],
   "source": []
  }
 ],
 "metadata": {
  "kernelspec": {
   "display_name": "Python 3",
   "language": "python",
   "name": "python3"
  },
  "language_info": {
   "codemirror_mode": {
    "name": "ipython",
    "version": 3
   },
   "file_extension": ".py",
   "mimetype": "text/x-python",
   "name": "python",
   "nbconvert_exporter": "python",
   "pygments_lexer": "ipython3",
   "version": "3.7.1"
  }
 },
 "nbformat": 4,
 "nbformat_minor": 2
}
