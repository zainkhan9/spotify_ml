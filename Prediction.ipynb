{
 "cells": [
  {
   "cell_type": "code",
   "execution_count": 16,
   "metadata": {},
   "outputs": [],
   "source": [
    "import pandas as pd\n",
    "import numpy as np\n",
    "from sklearn.decomposition import PCA\n",
    "import matplotlib.pyplot as plt\n",
    "from sklearn.model_selection import train_test_split\n",
    "from sklearn import metrics\n",
    "from sklearn import linear_model"
   ]
  },
  {
   "cell_type": "code",
   "execution_count": 17,
   "metadata": {},
   "outputs": [],
   "source": [
    "dat = pd.read_csv(\"archive/data.csv\")\n",
    "dat_artist = pd.read_csv(\"archive/data_by_artist.csv\")\n",
    "dat_genres = pd.read_csv(\"archive/data_by_genres.csv\")\n",
    "dat_year = pd.read_csv(\"archive/data_by_year.csv\")\n",
    "dat_w_genres = pd.read_csv(\"archive/data_w_genres.csv\")"
   ]
  },
  {
   "cell_type": "code",
   "execution_count": 18,
   "metadata": {},
   "outputs": [],
   "source": [
    "# Set features to the numeric ones, get Popularity as Y\n",
    "X = dat[['acousticness', \n",
    "       'danceability',\n",
    "       'energy',\n",
    "       'year', \n",
    "       'explicit',\n",
    "       'instrumentalness', \n",
    "       'key', \n",
    "       'liveness', \n",
    "       'loudness',\n",
    "       'mode', \n",
    "       'speechiness', \n",
    "       'tempo',\n",
    "        'valence', 'key', 'mode', 'loudness', 'explicit', 'duration_ms']]\n",
    "y = dat[\"popularity\"]"
   ]
  },
  {
   "cell_type": "code",
   "execution_count": 46,
   "metadata": {},
   "outputs": [
    {
     "data": {
      "text/plain": [
       "Text(0.5, 0, 'Popularity')"
      ]
     },
     "execution_count": 46,
     "metadata": {},
     "output_type": "execute_result"
    },
    {
     "data": {
      "image/png": "[encoded data removed]",
      "text/plain": [
       "<Figure size 432x288 with 1 Axes>"
      ]
     },
     "metadata": {
      "needs_background": "light"
     },
     "output_type": "display_data"
    }
   ],
   "source": [
    "# Distplot to visualize the popularity values\n",
    "import seaborn as sns\n",
    "sns.distplot(y)\n",
    "plt.xlabel(\"Popularity\")"
   ]
  },
  {
   "cell_type": "code",
   "execution_count": 19,
   "metadata": {},
   "outputs": [],
   "source": [
    "# Train Test split on the intial data\n",
    "X_train, X_test, y_train, y_test = train_test_split(X, y, test_size=0.2, random_state=42)"
   ]
  },
  {
   "cell_type": "code",
   "execution_count": 20,
   "metadata": {},
   "outputs": [
    {
     "data": {
      "text/plain": [
       "132259    48\n",
       "17849     16\n",
       "108334     2\n",
       "163389    13\n",
       "157173    34\n",
       "Name: popularity, dtype: int64"
      ]
     },
     "execution_count": 20,
     "metadata": {},
     "output_type": "execute_result"
    }
   ],
   "source": [
    "y_test.head()"
   ]
  },
  {
   "cell_type": "code",
   "execution_count": 21,
   "metadata": {},
   "outputs": [
    {
     "name": "stderr",
     "output_type": "stream",
     "text": [
      "C:\\Users\\Isaac\\Anaconda3\\lib\\site-packages\\sklearn\\preprocessing\\data.py:323: DataConversionWarning: Data with input dtype int64, float64 were all converted to float64 by MinMaxScaler.\n",
      "  return self.partial_fit(X, y)\n"
     ]
    }
   ],
   "source": [
    "# Look to see if non-distortionary scaling will impact our regression results\n",
    "from sklearn import preprocessing\n",
    "mm_scaler = preprocessing.MinMaxScaler()\n",
    "\n",
    "X_train_minmax = mm_scaler.fit_transform(X_train)\n",
    "X_test_minmax = mm_scaler.transform(X_test)"
   ]
  },
  {
   "cell_type": "code",
   "execution_count": 22,
   "metadata": {},
   "outputs": [
    {
     "data": {
      "text/plain": [
       "101.79043675570037"
      ]
     },
     "execution_count": 22,
     "metadata": {},
     "output_type": "execute_result"
    }
   ],
   "source": [
    "# Run Transformed linear regression, get Mean Squared Error\n",
    "from sklearn import metrics\n",
    "from sklearn.metrics import mean_squared_error\n",
    "from sklearn.linear_model import LinearRegression\n",
    "\n",
    "model = LinearRegression()\n",
    "model.fit(X_train_minmax, y_train)\n",
    "preds = model.predict(X_test_minmax)\n",
    "\n",
    "mean_squared_error(y_test, preds)"
   ]
  },
  {
   "cell_type": "code",
   "execution_count": 23,
   "metadata": {},
   "outputs": [
    {
     "data": {
      "text/plain": [
       "101.79043675571864"
      ]
     },
     "execution_count": 23,
     "metadata": {},
     "output_type": "execute_result"
    }
   ],
   "source": [
    "# Run classic linear regression no correction\n",
    "model1 = LinearRegression()\n",
    "model1.fit(X_train, y_train)\n",
    "preds = model1.predict(X_test)\n",
    "\n",
    "mean_squared_error(y_test, preds)"
   ]
  },
  {
   "cell_type": "code",
   "execution_count": 24,
   "metadata": {},
   "outputs": [
    {
     "data": {
      "text/plain": [
       "137872"
      ]
     },
     "execution_count": 24,
     "metadata": {},
     "output_type": "execute_result"
    }
   ],
   "source": [
    "# Was here for a sanity check, see last value in array below\n",
    "X_train[\"duration_ms\"].iloc[0]"
   ]
  },
  {
   "cell_type": "code",
   "execution_count": 25,
   "metadata": {},
   "outputs": [
    {
     "data": {
      "text/plain": [
       "array([0.00108434, 0.21153846, 0.78      , 0.92929293, 0.        ,\n",
       "       0.0253    , 0.09090909, 0.212     , 0.88881059, 1.        ,\n",
       "       0.05289256, 0.42146986, 0.626     , 0.09090909, 1.        ,\n",
       "       0.88881059, 0.        , 0.02459325])"
      ]
     },
     "execution_count": 25,
     "metadata": {},
     "output_type": "execute_result"
    }
   ],
   "source": [
    "# Check to make sure the transformation was applied\n",
    "X_train_minmax[0]"
   ]
  },
  {
   "cell_type": "code",
   "execution_count": 26,
   "metadata": {},
   "outputs": [
    {
     "data": {
      "text/plain": [
       "0.7819992419510093"
      ]
     },
     "execution_count": 26,
     "metadata": {},
     "output_type": "execute_result"
    }
   ],
   "source": [
    "# Get score (R^2) value for the transformed linear regression\n",
    "model.score(X_test_minmax, y_test)"
   ]
  },
  {
   "cell_type": "code",
   "execution_count": 27,
   "metadata": {},
   "outputs": [
    {
     "data": {
      "text/plain": [
       "0.7819992419509703"
      ]
     },
     "execution_count": 27,
     "metadata": {},
     "output_type": "execute_result"
    }
   ],
   "source": [
    "# Get score (R^2) value for the classic linear regression (slightly lower but functionally the same)\n",
    "model1.score(X_test, y_test)"
   ]
  },
  {
   "cell_type": "code",
   "execution_count": 28,
   "metadata": {},
   "outputs": [
    {
     "data": {
      "text/plain": [
       "101.79043675570028"
      ]
     },
     "execution_count": 28,
     "metadata": {},
     "output_type": "execute_result"
    }
   ],
   "source": [
    "# Run linear regression normalizing the values\n",
    "model2 = LinearRegression(normalize=True)\n",
    "model2.fit(X_train, y_train)\n",
    "preds = model2.predict(X_test)\n",
    "\n",
    "mean_squared_error(y_test, preds)"
   ]
  },
  {
   "cell_type": "code",
   "execution_count": 29,
   "metadata": {},
   "outputs": [
    {
     "data": {
      "text/plain": [
       "0.7819992419510096"
      ]
     },
     "execution_count": 29,
     "metadata": {},
     "output_type": "execute_result"
    }
   ],
   "source": [
    "# See score, slight improvement overall\n",
    "model2.score(X_test, y_test)"
   ]
  },
  {
   "cell_type": "code",
   "execution_count": 30,
   "metadata": {},
   "outputs": [
    {
     "data": {
      "text/plain": [
       "[<matplotlib.lines.Line2D at 0x1a8389aa668>]"
      ]
     },
     "execution_count": 30,
     "metadata": {},
     "output_type": "execute_result"
    },
    {
     "data": {
      "image/png": "[encoded data removed]",
      "text/plain": [
       "<Figure size 432x288 with 1 Axes>"
      ]
     },
     "metadata": {
      "needs_background": "light"
     },
     "output_type": "display_data"
    }
   ],
   "source": [
    "# Get Prediction vs Residual plot\n",
    "resid = preds - y_test\n",
    "plt.plot(preds, resid, 'bo')"
   ]
  },
  {
   "cell_type": "code",
   "execution_count": 31,
   "metadata": {},
   "outputs": [
    {
     "data": {
      "text/html": [
       "<div>\n",
       "<style scoped>\n",
       "    .dataframe tbody tr th:only-of-type {\n",
       "        vertical-align: middle;\n",
       "    }\n",
       "\n",
       "    .dataframe tbody tr th {\n",
       "        vertical-align: top;\n",
       "    }\n",
       "\n",
       "    .dataframe thead th {\n",
       "        text-align: right;\n",
       "    }\n",
       "</style>\n",
       "<table border=\"1\" class=\"dataframe\">\n",
       "  <thead>\n",
       "    <tr style=\"text-align: right;\">\n",
       "      <th></th>\n",
       "      <th>Actual Popularity</th>\n",
       "      <th>Predicted</th>\n",
       "      <th>Residuals</th>\n",
       "    </tr>\n",
       "  </thead>\n",
       "  <tbody>\n",
       "    <tr>\n",
       "      <th>132259</th>\n",
       "      <td>48</td>\n",
       "      <td>42.738071</td>\n",
       "      <td>-5.261929</td>\n",
       "    </tr>\n",
       "    <tr>\n",
       "      <th>17849</th>\n",
       "      <td>16</td>\n",
       "      <td>17.209593</td>\n",
       "      <td>1.209593</td>\n",
       "    </tr>\n",
       "    <tr>\n",
       "      <th>108334</th>\n",
       "      <td>2</td>\n",
       "      <td>0.616581</td>\n",
       "      <td>-1.383419</td>\n",
       "    </tr>\n",
       "    <tr>\n",
       "      <th>163389</th>\n",
       "      <td>13</td>\n",
       "      <td>14.493185</td>\n",
       "      <td>1.493185</td>\n",
       "    </tr>\n",
       "    <tr>\n",
       "      <th>157173</th>\n",
       "      <td>34</td>\n",
       "      <td>29.798056</td>\n",
       "      <td>-4.201944</td>\n",
       "    </tr>\n",
       "  </tbody>\n",
       "</table>\n",
       "</div>"
      ],
      "text/plain": [
       "        Actual Popularity  Predicted  Residuals\n",
       "132259                 48  42.738071  -5.261929\n",
       "17849                  16  17.209593   1.209593\n",
       "108334                  2   0.616581  -1.383419\n",
       "163389                 13  14.493185   1.493185\n",
       "157173                 34  29.798056  -4.201944"
      ]
     },
     "execution_count": 31,
     "metadata": {},
     "output_type": "execute_result"
    }
   ],
   "source": [
    "# Set up data frame for Pop, Pred, Resid\n",
    "data = {\"Actual Popularity\": y_test, \"Predicted\": preds, \"Residuals\": preds-y_test}\n",
    "data = pd.DataFrame(data=data)\n",
    "data.head()"
   ]
  },
  {
   "cell_type": "code",
   "execution_count": 41,
   "metadata": {},
   "outputs": [
    {
     "data": {
      "image/png": "[encoded data removed]",
      "text/plain": [
       "<Figure size 360x360 with 1 Axes>"
      ]
     },
     "metadata": {
      "needs_background": "light"
     },
     "output_type": "display_data"
    }
   ],
   "source": [
    "# Residual Prediction Plot\n",
    "import seaborn as sns\n",
    "g = sns.lmplot(x=\"Predicted\", y=\"Residuals\", data=data)"
   ]
  },
  {
   "cell_type": "code",
   "execution_count": 32,
   "metadata": {},
   "outputs": [
    {
     "data": {
      "text/plain": [
       "[<matplotlib.lines.Line2D at 0x1a838a69208>]"
      ]
     },
     "execution_count": 32,
     "metadata": {},
     "output_type": "execute_result"
    },
    {
     "data": {
      "image/png": "[encoded data removed]",
      "text/plain": [
       "<Figure size 432x288 with 1 Axes>"
      ]
     },
     "metadata": {
      "needs_background": "light"
     },
     "output_type": "display_data"
    }
   ],
   "source": [
    "# Plot first 1000 to get more clear graph\n",
    "plt.plot(data.iloc[0:1000, 1], data.iloc[0:1000, 2], 'ro')"
   ]
  },
  {
   "cell_type": "code",
   "execution_count": 38,
   "metadata": {},
   "outputs": [
    {
     "data": {
      "text/plain": [
       "Text(0, 0.5, 'Predicted Popularity')"
      ]
     },
     "execution_count": 38,
     "metadata": {},
     "output_type": "execute_result"
    },
    {
     "data": {
      "image/png": "[encoded data removed]",
      "text/plain": [
       "<Figure size 432x288 with 1 Axes>"
      ]
     },
     "metadata": {
      "needs_background": "light"
     },
     "output_type": "display_data"
    }
   ],
   "source": [
    "# Plot popularity vs prediction\n",
    "plt.plot(y_test, preds, 'bo')\n",
    "plt.xlabel(\"Actual Popularity\")\n",
    "plt.ylabel(\"Predicted Popularity\")"
   ]
  },
  {
   "cell_type": "code",
   "execution_count": 40,
   "metadata": {},
   "outputs": [
    {
     "name": "stderr",
     "output_type": "stream",
     "text": [
      "C:\\Users\\Isaac\\Anaconda3\\lib\\site-packages\\scipy\\stats\\stats.py:1713: FutureWarning: Using a non-tuple sequence for multidimensional indexing is deprecated; use `arr[tuple(seq)]` instead of `arr[seq]`. In the future this will be interpreted as an array index, `arr[np.array(seq)]`, which will result either in an error or a different result.\n",
      "  return np.add.reduce(sorted[indexer] * weights, axis=axis) / sumval\n"
     ]
    },
    {
     "data": {
      "image/png": "[encoded data removed]",
      "text/plain": [
       "<Figure size 360x360 with 1 Axes>"
      ]
     },
     "metadata": {
      "needs_background": "light"
     },
     "output_type": "display_data"
    }
   ],
   "source": [
    "# Nice plot for popularity vs predicted\n",
    "import seaborn as sns\n",
    "g = sns.lmplot(x=\"Actual Popularity\", y=\"Predicted\", data=data)"
   ]
  },
  {
   "cell_type": "code",
   "execution_count": 17,
   "metadata": {},
   "outputs": [
    {
     "data": {
      "text/html": [
       "<div>\n",
       "<style scoped>\n",
       "    .dataframe tbody tr th:only-of-type {\n",
       "        vertical-align: middle;\n",
       "    }\n",
       "\n",
       "    .dataframe tbody tr th {\n",
       "        vertical-align: top;\n",
       "    }\n",
       "\n",
       "    .dataframe thead th {\n",
       "        text-align: right;\n",
       "    }\n",
       "</style>\n",
       "<table border=\"1\" class=\"dataframe\">\n",
       "  <thead>\n",
       "    <tr style=\"text-align: right;\">\n",
       "      <th></th>\n",
       "      <th>Actual Popularity</th>\n",
       "      <th>Predicted</th>\n",
       "      <th>Residuals</th>\n",
       "    </tr>\n",
       "  </thead>\n",
       "  <tbody>\n",
       "    <tr>\n",
       "      <th>32231</th>\n",
       "      <td>2</td>\n",
       "      <td>61.674920</td>\n",
       "      <td>59.674920</td>\n",
       "    </tr>\n",
       "    <tr>\n",
       "      <th>82353</th>\n",
       "      <td>67</td>\n",
       "      <td>22.048058</td>\n",
       "      <td>-44.951942</td>\n",
       "    </tr>\n",
       "    <tr>\n",
       "      <th>24196</th>\n",
       "      <td>1</td>\n",
       "      <td>63.911032</td>\n",
       "      <td>62.911032</td>\n",
       "    </tr>\n",
       "    <tr>\n",
       "      <th>84157</th>\n",
       "      <td>70</td>\n",
       "      <td>37.686596</td>\n",
       "      <td>-32.313404</td>\n",
       "    </tr>\n",
       "    <tr>\n",
       "      <th>82264</th>\n",
       "      <td>59</td>\n",
       "      <td>21.362322</td>\n",
       "      <td>-37.637678</td>\n",
       "    </tr>\n",
       "  </tbody>\n",
       "</table>\n",
       "</div>"
      ],
      "text/plain": [
       "       Actual Popularity  Predicted  Residuals\n",
       "32231                  2  61.674920  59.674920\n",
       "82353                 67  22.048058 -44.951942\n",
       "24196                  1  63.911032  62.911032\n",
       "84157                 70  37.686596 -32.313404\n",
       "82264                 59  21.362322 -37.637678"
      ]
     },
     "execution_count": 17,
     "metadata": {},
     "output_type": "execute_result"
    }
   ],
   "source": [
    "# Find residuals greater than abs(30)\n",
    "dat2 = data[np.abs(data[\"Residuals\"]) > 30]\n",
    "dat2.head()"
   ]
  },
  {
   "cell_type": "code",
   "execution_count": 18,
   "metadata": {},
   "outputs": [
    {
     "data": {
      "text/plain": [
       "acousticness                          0.616\n",
       "artists             ['Alejandro Fernández']\n",
       "danceability                          0.535\n",
       "duration_ms                          326840\n",
       "energy                                0.327\n",
       "explicit                                  0\n",
       "id                   6vBgYbRLVm1zpPxSzeau8B\n",
       "instrumentalness                          0\n",
       "key                                       0\n",
       "liveness                              0.107\n",
       "loudness                            -10.192\n",
       "mode                                      1\n",
       "name                     Me Olvidé De Vivir\n",
       "popularity                                2\n",
       "release_date                     2020-06-05\n",
       "speechiness                          0.0357\n",
       "tempo                                 123.9\n",
       "valence                               0.338\n",
       "year                                   2020\n",
       "Name: 32231, dtype: object"
      ]
     },
     "execution_count": 18,
     "metadata": {},
     "output_type": "execute_result"
    }
   ],
   "source": [
    "dat.loc[32231]"
   ]
  },
  {
   "cell_type": "code",
   "execution_count": 19,
   "metadata": {},
   "outputs": [
    {
     "data": {
      "text/plain": [
       "array([-4.16896481e+00,  4.72605387e+00, -1.17604373e+00,  6.84203301e-01,\n",
       "        2.42174025e-01, -2.46761469e+00, -5.95000750e-03, -2.44652417e+00,\n",
       "        1.56654521e-02, -1.26964489e-01, -7.67374515e+00,  5.34910801e-03,\n",
       "       -3.68358570e-01, -5.95000750e-03, -1.26964489e-01,  1.56654521e-02,\n",
       "        2.42174025e-01,  1.61338939e-07])"
      ]
     },
     "execution_count": 19,
     "metadata": {},
     "output_type": "execute_result"
    }
   ],
   "source": [
    "model2.coef_"
   ]
  },
  {
   "cell_type": "code",
   "execution_count": 20,
   "metadata": {},
   "outputs": [
    {
     "data": {
      "text/plain": [
       "Index(['acousticness', 'danceability', 'energy', 'year', 'explicit',\n",
       "       'instrumentalness', 'key', 'liveness', 'loudness', 'mode',\n",
       "       'speechiness', 'tempo', 'valence', 'key', 'mode', 'loudness',\n",
       "       'explicit', 'duration_ms'],\n",
       "      dtype='object')"
      ]
     },
     "execution_count": 20,
     "metadata": {},
     "output_type": "execute_result"
    }
   ],
   "source": [
    "X.columns"
   ]
  },
  {
   "cell_type": "code",
   "execution_count": 22,
   "metadata": {},
   "outputs": [
    {
     "data": {
      "text/plain": [
       "1.0"
      ]
     },
     "execution_count": 22,
     "metadata": {},
     "output_type": "execute_result"
    }
   ],
   "source": [
    "# Ridge Regression CV\n",
    "reg = linear_model.RidgeCV(alphas=np.logspace(-9, 9, 19))\n",
    "reg.fit(X_train, y_train)\n",
    "reg.alpha_"
   ]
  },
  {
   "cell_type": "code",
   "execution_count": 25,
   "metadata": {},
   "outputs": [
    {
     "data": {
      "text/plain": [
       "0.7784127347771947"
      ]
     },
     "execution_count": 25,
     "metadata": {},
     "output_type": "execute_result"
    }
   ],
   "source": [
    "# Score for Ridge CV Model\n",
    "reg.score(X_test, y_test)"
   ]
  },
  {
   "cell_type": "code",
   "execution_count": 31,
   "metadata": {},
   "outputs": [
    {
     "data": {
      "text/plain": [
       "1e-06"
      ]
     },
     "execution_count": 31,
     "metadata": {},
     "output_type": "execute_result"
    }
   ],
   "source": [
    "# LASSO CV\n",
    "reg = linear_model.LassoCV(cv=5,alphas=np.logspace(-6, 6, 13), max_iter=1000000).fit(X_train, y_train)\n",
    "reg.alpha_"
   ]
  },
  {
   "cell_type": "code",
   "execution_count": 32,
   "metadata": {},
   "outputs": [
    {
     "data": {
      "text/plain": [
       "0.7819992423268884"
      ]
     },
     "execution_count": 32,
     "metadata": {},
     "output_type": "execute_result"
    }
   ],
   "source": [
    "# Score for LASSO\n",
    "reg.score(X_test, y_test)"
   ]
  },
  {
   "cell_type": "code",
   "execution_count": 36,
   "metadata": {},
   "outputs": [
    {
     "data": {
      "text/plain": [
       "1e-05"
      ]
     },
     "execution_count": 36,
     "metadata": {},
     "output_type": "execute_result"
    }
   ],
   "source": [
    "# CV for Elastic Net\n",
    "regr = linear_model.ElasticNetCV(cv=5, random_state=0, alphas=np.logspace(-6,6,13), max_iter=10000000, l1_ratio=[.1, .2, .3, .4, .5, .6, .7, .8, .9])\n",
    "regr.fit(X_train, y_train)\n",
    "regr.alpha_"
   ]
  },
  {
   "cell_type": "code",
   "execution_count": 37,
   "metadata": {},
   "outputs": [
    {
     "data": {
      "text/plain": [
       "0.1"
      ]
     },
     "execution_count": 37,
     "metadata": {},
     "output_type": "execute_result"
    }
   ],
   "source": [
    "# Get other parameter (l1 share)\n",
    "regr.l1_ratio_"
   ]
  },
  {
   "cell_type": "code",
   "execution_count": 38,
   "metadata": {},
   "outputs": [
    {
     "data": {
      "text/plain": [
       "0.7819991423662846"
      ]
     },
     "execution_count": 38,
     "metadata": {},
     "output_type": "execute_result"
    }
   ],
   "source": [
    "# Score for elastic net model\n",
    "regr.score(X_test, y_test)"
   ]
  },
  {
   "cell_type": "code",
   "execution_count": 50,
   "metadata": {},
   "outputs": [],
   "source": [
    "from sklearn.linear_model import LogisticRegression"
   ]
  },
  {
   "cell_type": "code",
   "execution_count": 41,
   "metadata": {},
   "outputs": [],
   "source": [
    "# Intial attempt without binarization, don't use\n",
    "dat = pd.DataFrame(columns=[\"Regularization Parameter Lambda\", \"L1 or L2\", \"Accuracy\"])\n",
    "l = 0\n",
    "    # Get intitial vocabulary\n",
    "for i in np.logspace(-6,6,13):\n",
    "    modell1 = LogisticRegression(C=i, solver=\"liblinear\", multi_class=\"auto\", penalty=\"l1\", tol=0.015)\n",
    "    modell1.fit(X_train, y_train)\n",
    "    dat.loc[l] = [(1/i), \"l1\", model1.score(X_test, y_test)]\n",
    "    l+=1\n",
    "    \n",
    "    modell2 = LogisticRegression(C=i, solver=\"liblinear\", multi_class=\"auto\", penalty=\"l2\", tol=0.015)\n",
    "    modell2.fit(X_train, y_train)        \n",
    "    dat.loc[l] = [(1/i), \"l2\", model2.score(X_test, y_test)]\n",
    "    l+=1"
   ]
  },
  {
   "cell_type": "code",
   "execution_count": 42,
   "metadata": {},
   "outputs": [
    {
     "data": {
      "text/html": [
       "<div>\n",
       "<style scoped>\n",
       "    .dataframe tbody tr th:only-of-type {\n",
       "        vertical-align: middle;\n",
       "    }\n",
       "\n",
       "    .dataframe tbody tr th {\n",
       "        vertical-align: top;\n",
       "    }\n",
       "\n",
       "    .dataframe thead th {\n",
       "        text-align: right;\n",
       "    }\n",
       "</style>\n",
       "<table border=\"1\" class=\"dataframe\">\n",
       "  <thead>\n",
       "    <tr style=\"text-align: right;\">\n",
       "      <th></th>\n",
       "      <th>Regularization Parameter Lambda</th>\n",
       "      <th>L1 or L2</th>\n",
       "      <th>Accuracy</th>\n",
       "    </tr>\n",
       "  </thead>\n",
       "  <tbody>\n",
       "    <tr>\n",
       "      <th>0</th>\n",
       "      <td>1000000.000000</td>\n",
       "      <td>l1</td>\n",
       "      <td>0.781999</td>\n",
       "    </tr>\n",
       "    <tr>\n",
       "      <th>1</th>\n",
       "      <td>1000000.000000</td>\n",
       "      <td>l2</td>\n",
       "      <td>0.781999</td>\n",
       "    </tr>\n",
       "    <tr>\n",
       "      <th>2</th>\n",
       "      <td>100000.000000</td>\n",
       "      <td>l1</td>\n",
       "      <td>0.781999</td>\n",
       "    </tr>\n",
       "    <tr>\n",
       "      <th>3</th>\n",
       "      <td>100000.000000</td>\n",
       "      <td>l2</td>\n",
       "      <td>0.781999</td>\n",
       "    </tr>\n",
       "    <tr>\n",
       "      <th>4</th>\n",
       "      <td>10000.000000</td>\n",
       "      <td>l1</td>\n",
       "      <td>0.781999</td>\n",
       "    </tr>\n",
       "    <tr>\n",
       "      <th>5</th>\n",
       "      <td>10000.000000</td>\n",
       "      <td>l2</td>\n",
       "      <td>0.781999</td>\n",
       "    </tr>\n",
       "    <tr>\n",
       "      <th>6</th>\n",
       "      <td>1000.000000</td>\n",
       "      <td>l1</td>\n",
       "      <td>0.781999</td>\n",
       "    </tr>\n",
       "    <tr>\n",
       "      <th>7</th>\n",
       "      <td>1000.000000</td>\n",
       "      <td>l2</td>\n",
       "      <td>0.781999</td>\n",
       "    </tr>\n",
       "    <tr>\n",
       "      <th>8</th>\n",
       "      <td>100.000000</td>\n",
       "      <td>l1</td>\n",
       "      <td>0.781999</td>\n",
       "    </tr>\n",
       "    <tr>\n",
       "      <th>9</th>\n",
       "      <td>100.000000</td>\n",
       "      <td>l2</td>\n",
       "      <td>0.781999</td>\n",
       "    </tr>\n",
       "    <tr>\n",
       "      <th>10</th>\n",
       "      <td>10.000000</td>\n",
       "      <td>l1</td>\n",
       "      <td>0.781999</td>\n",
       "    </tr>\n",
       "    <tr>\n",
       "      <th>11</th>\n",
       "      <td>10.000000</td>\n",
       "      <td>l2</td>\n",
       "      <td>0.781999</td>\n",
       "    </tr>\n",
       "    <tr>\n",
       "      <th>12</th>\n",
       "      <td>1.000000</td>\n",
       "      <td>l1</td>\n",
       "      <td>0.781999</td>\n",
       "    </tr>\n",
       "    <tr>\n",
       "      <th>13</th>\n",
       "      <td>1.000000</td>\n",
       "      <td>l2</td>\n",
       "      <td>0.781999</td>\n",
       "    </tr>\n",
       "    <tr>\n",
       "      <th>14</th>\n",
       "      <td>0.100000</td>\n",
       "      <td>l1</td>\n",
       "      <td>0.781999</td>\n",
       "    </tr>\n",
       "    <tr>\n",
       "      <th>15</th>\n",
       "      <td>0.100000</td>\n",
       "      <td>l2</td>\n",
       "      <td>0.781999</td>\n",
       "    </tr>\n",
       "    <tr>\n",
       "      <th>16</th>\n",
       "      <td>0.010000</td>\n",
       "      <td>l1</td>\n",
       "      <td>0.781999</td>\n",
       "    </tr>\n",
       "    <tr>\n",
       "      <th>17</th>\n",
       "      <td>0.010000</td>\n",
       "      <td>l2</td>\n",
       "      <td>0.781999</td>\n",
       "    </tr>\n",
       "    <tr>\n",
       "      <th>18</th>\n",
       "      <td>0.001000</td>\n",
       "      <td>l1</td>\n",
       "      <td>0.781999</td>\n",
       "    </tr>\n",
       "    <tr>\n",
       "      <th>19</th>\n",
       "      <td>0.001000</td>\n",
       "      <td>l2</td>\n",
       "      <td>0.781999</td>\n",
       "    </tr>\n",
       "    <tr>\n",
       "      <th>20</th>\n",
       "      <td>0.000100</td>\n",
       "      <td>l1</td>\n",
       "      <td>0.781999</td>\n",
       "    </tr>\n",
       "    <tr>\n",
       "      <th>21</th>\n",
       "      <td>0.000100</td>\n",
       "      <td>l2</td>\n",
       "      <td>0.781999</td>\n",
       "    </tr>\n",
       "    <tr>\n",
       "      <th>22</th>\n",
       "      <td>0.000010</td>\n",
       "      <td>l1</td>\n",
       "      <td>0.781999</td>\n",
       "    </tr>\n",
       "    <tr>\n",
       "      <th>23</th>\n",
       "      <td>0.000010</td>\n",
       "      <td>l2</td>\n",
       "      <td>0.781999</td>\n",
       "    </tr>\n",
       "    <tr>\n",
       "      <th>24</th>\n",
       "      <td>0.000001</td>\n",
       "      <td>l1</td>\n",
       "      <td>0.781999</td>\n",
       "    </tr>\n",
       "    <tr>\n",
       "      <th>25</th>\n",
       "      <td>0.000001</td>\n",
       "      <td>l2</td>\n",
       "      <td>0.781999</td>\n",
       "    </tr>\n",
       "  </tbody>\n",
       "</table>\n",
       "</div>"
      ],
      "text/plain": [
       "    Regularization Parameter Lambda L1 or L2  Accuracy\n",
       "0                    1000000.000000       l1  0.781999\n",
       "1                    1000000.000000       l2  0.781999\n",
       "2                     100000.000000       l1  0.781999\n",
       "3                     100000.000000       l2  0.781999\n",
       "4                      10000.000000       l1  0.781999\n",
       "5                      10000.000000       l2  0.781999\n",
       "6                       1000.000000       l1  0.781999\n",
       "7                       1000.000000       l2  0.781999\n",
       "8                        100.000000       l1  0.781999\n",
       "9                        100.000000       l2  0.781999\n",
       "10                        10.000000       l1  0.781999\n",
       "11                        10.000000       l2  0.781999\n",
       "12                         1.000000       l1  0.781999\n",
       "13                         1.000000       l2  0.781999\n",
       "14                         0.100000       l1  0.781999\n",
       "15                         0.100000       l2  0.781999\n",
       "16                         0.010000       l1  0.781999\n",
       "17                         0.010000       l2  0.781999\n",
       "18                         0.001000       l1  0.781999\n",
       "19                         0.001000       l2  0.781999\n",
       "20                         0.000100       l1  0.781999\n",
       "21                         0.000100       l2  0.781999\n",
       "22                         0.000010       l1  0.781999\n",
       "23                         0.000010       l2  0.781999\n",
       "24                         0.000001       l1  0.781999\n",
       "25                         0.000001       l2  0.781999"
      ]
     },
     "execution_count": 42,
     "metadata": {},
     "output_type": "execute_result"
    }
   ],
   "source": [
    "dat"
   ]
  },
  {
   "cell_type": "code",
   "execution_count": 44,
   "metadata": {},
   "outputs": [
    {
     "data": {
      "text/plain": [
       "array([42.73807068, 17.20959257,  0.61658123, ..., 11.65688447,\n",
       "        8.78991614, 45.29163227])"
      ]
     },
     "execution_count": 44,
     "metadata": {},
     "output_type": "execute_result"
    }
   ],
   "source": [
    "model2.predict(X_test)"
   ]
  },
  {
   "cell_type": "code",
   "execution_count": 46,
   "metadata": {},
   "outputs": [
    {
     "data": {
      "text/plain": [
       "31.557019576684542"
      ]
     },
     "execution_count": 46,
     "metadata": {},
     "output_type": "execute_result"
    }
   ],
   "source": [
    "# Get mean for later usage (binarize)\n",
    "np.mean(y_train)"
   ]
  },
  {
   "cell_type": "code",
   "execution_count": 47,
   "metadata": {},
   "outputs": [
    {
     "data": {
      "text/plain": [
       "100"
      ]
     },
     "execution_count": 47,
     "metadata": {},
     "output_type": "execute_result"
    }
   ],
   "source": [
    "# Sanity check for data\n",
    "max(y_train)"
   ]
  },
  {
   "cell_type": "code",
   "execution_count": 12,
   "metadata": {},
   "outputs": [],
   "source": [
    "# Do Logistic Regression for > 50\n",
    "y_train = [1 if i > 50 else 0 for i in y_train]\n",
    "y_test = [1 if i > 50 else 0 for i in y_test]"
   ]
  },
  {
   "cell_type": "code",
   "execution_count": 64,
   "metadata": {},
   "outputs": [],
   "source": [
    "# Binarize on 50, find best model\n",
    "from sklearn.metrics import accuracy_score\n",
    "dat = pd.DataFrame(columns=[\"Regularization Parameter Lambda\", \"L1 or L2\", \"Accuracy\"])\n",
    "l = 0\n",
    "    # Get intitial vocabulary\n",
    "for i in np.logspace(-6,6,13):\n",
    "    modell1 = LogisticRegression(C=i, solver=\"liblinear\", multi_class=\"auto\", penalty=\"l1\", tol=0.015)\n",
    "    modell1.fit(X_train, y_train)\n",
    "    preds = modell1.predict(X_test)\n",
    "    dat.loc[l] = [(1/i), \"l1\", accuracy_score(y_test, preds)]\n",
    "    l+=1\n",
    "    \n",
    "    modell2 = LogisticRegression(C=i, solver=\"liblinear\", multi_class=\"auto\", penalty=\"l2\", tol=0.015)\n",
    "    modell2.fit(X_train, y_train)\n",
    "    preds = modell2.predict(X_test)\n",
    "    dat.loc[l] = [(1/i), \"l2\", accuracy_score(y_test, preds)]\n",
    "    l+=1"
   ]
  },
  {
   "cell_type": "code",
   "execution_count": 66,
   "metadata": {},
   "outputs": [
    {
     "data": {
      "text/html": [
       "<div>\n",
       "<style scoped>\n",
       "    .dataframe tbody tr th:only-of-type {\n",
       "        vertical-align: middle;\n",
       "    }\n",
       "\n",
       "    .dataframe tbody tr th {\n",
       "        vertical-align: top;\n",
       "    }\n",
       "\n",
       "    .dataframe thead th {\n",
       "        text-align: right;\n",
       "    }\n",
       "</style>\n",
       "<table border=\"1\" class=\"dataframe\">\n",
       "  <thead>\n",
       "    <tr style=\"text-align: right;\">\n",
       "      <th></th>\n",
       "      <th>Regularization Parameter Lambda</th>\n",
       "      <th>L1 or L2</th>\n",
       "      <th>Accuracy</th>\n",
       "    </tr>\n",
       "  </thead>\n",
       "  <tbody>\n",
       "    <tr>\n",
       "      <th>0</th>\n",
       "      <td>1000000.0</td>\n",
       "      <td>l1</td>\n",
       "      <td>0.789124</td>\n",
       "    </tr>\n",
       "    <tr>\n",
       "      <th>1</th>\n",
       "      <td>1000000.0</td>\n",
       "      <td>l2</td>\n",
       "      <td>0.789124</td>\n",
       "    </tr>\n",
       "    <tr>\n",
       "      <th>2</th>\n",
       "      <td>100000.0</td>\n",
       "      <td>l1</td>\n",
       "      <td>0.789124</td>\n",
       "    </tr>\n",
       "    <tr>\n",
       "      <th>3</th>\n",
       "      <td>100000.0</td>\n",
       "      <td>l2</td>\n",
       "      <td>0.789124</td>\n",
       "    </tr>\n",
       "    <tr>\n",
       "      <th>4</th>\n",
       "      <td>10000.0</td>\n",
       "      <td>l1</td>\n",
       "      <td>0.789565</td>\n",
       "    </tr>\n",
       "  </tbody>\n",
       "</table>\n",
       "</div>"
      ],
      "text/plain": [
       "   Regularization Parameter Lambda L1 or L2  Accuracy\n",
       "0                        1000000.0       l1  0.789124\n",
       "1                        1000000.0       l2  0.789124\n",
       "2                         100000.0       l1  0.789124\n",
       "3                         100000.0       l2  0.789124\n",
       "4                          10000.0       l1  0.789565"
      ]
     },
     "execution_count": 66,
     "metadata": {},
     "output_type": "execute_result"
    }
   ],
   "source": [
    "dat.head()"
   ]
  },
  {
   "cell_type": "code",
   "execution_count": 68,
   "metadata": {},
   "outputs": [
    {
     "data": {
      "text/html": [
       "<div>\n",
       "<style scoped>\n",
       "    .dataframe tbody tr th:only-of-type {\n",
       "        vertical-align: middle;\n",
       "    }\n",
       "\n",
       "    .dataframe tbody tr th {\n",
       "        vertical-align: top;\n",
       "    }\n",
       "\n",
       "    .dataframe thead th {\n",
       "        text-align: right;\n",
       "    }\n",
       "</style>\n",
       "<table border=\"1\" class=\"dataframe\">\n",
       "  <thead>\n",
       "    <tr style=\"text-align: right;\">\n",
       "      <th></th>\n",
       "      <th>Regularization Parameter Lambda</th>\n",
       "      <th>L1 or L2</th>\n",
       "      <th>Accuracy</th>\n",
       "    </tr>\n",
       "  </thead>\n",
       "  <tbody>\n",
       "    <tr>\n",
       "      <th>10</th>\n",
       "      <td>10.0</td>\n",
       "      <td>l1</td>\n",
       "      <td>0.814343</td>\n",
       "    </tr>\n",
       "  </tbody>\n",
       "</table>\n",
       "</div>"
      ],
      "text/plain": [
       "    Regularization Parameter Lambda L1 or L2  Accuracy\n",
       "10                             10.0       l1  0.814343"
      ]
     },
     "execution_count": 68,
     "metadata": {},
     "output_type": "execute_result"
    }
   ],
   "source": [
    "# Can predict if > 50 with 80% accuracy, best model\n",
    "dat[dat[\"Accuracy\"] == max(dat[\"Accuracy\"])]"
   ]
  },
  {
   "cell_type": "code",
   "execution_count": 7,
   "metadata": {},
   "outputs": [
    {
     "data": {
      "text/plain": [
       "0.7889161093822419"
      ]
     },
     "execution_count": 7,
     "metadata": {},
     "output_type": "execute_result"
    }
   ],
   "source": [
    "# Get the percentage of 0's \n",
    "1 - (sum(y_train) / len(y_train))"
   ]
  },
  {
   "cell_type": "code",
   "execution_count": 18,
   "metadata": {},
   "outputs": [],
   "source": [
    "# Binarize on mean\n",
    "y_train = [1 if i > 31.56 else 0 for i in y_train]\n",
    "y_test = [1 if i > 31.56 else 0 for i in y_test]"
   ]
  },
  {
   "cell_type": "code",
   "execution_count": 21,
   "metadata": {},
   "outputs": [],
   "source": [
    "# Get best logistic regression for new binarize\n",
    "from sklearn.metrics import accuracy_score\n",
    "dat = pd.DataFrame(columns=[\"Regularization Parameter Lambda\", \"L1 or L2\", \"Accuracy\"])\n",
    "l = 0\n",
    "    # Get intitial vocabulary\n",
    "for i in np.logspace(-6,6,13):\n",
    "    modell1 = LogisticRegression(C=i, solver=\"liblinear\", multi_class=\"auto\", penalty=\"l1\", tol=0.015)\n",
    "    modell1.fit(X_train, y_train)\n",
    "    preds = modell1.predict(X_test)\n",
    "    dat.loc[l] = [(1/i), \"l1\", accuracy_score(y_test, preds)]\n",
    "    l+=1\n",
    "    \n",
    "    modell2 = LogisticRegression(C=i, solver=\"liblinear\", multi_class=\"auto\", penalty=\"l2\", tol=0.015)\n",
    "    modell2.fit(X_train, y_train)\n",
    "    preds = modell2.predict(X_test)\n",
    "    dat.loc[l] = [(1/i), \"l2\", accuracy_score(y_test, preds)]\n",
    "    l+=1"
   ]
  },
  {
   "cell_type": "code",
   "execution_count": 22,
   "metadata": {},
   "outputs": [
    {
     "data": {
      "text/html": [
       "<div>\n",
       "<style scoped>\n",
       "    .dataframe tbody tr th:only-of-type {\n",
       "        vertical-align: middle;\n",
       "    }\n",
       "\n",
       "    .dataframe tbody tr th {\n",
       "        vertical-align: top;\n",
       "    }\n",
       "\n",
       "    .dataframe thead th {\n",
       "        text-align: right;\n",
       "    }\n",
       "</style>\n",
       "<table border=\"1\" class=\"dataframe\">\n",
       "  <thead>\n",
       "    <tr style=\"text-align: right;\">\n",
       "      <th></th>\n",
       "      <th>Regularization Parameter Lambda</th>\n",
       "      <th>L1 or L2</th>\n",
       "      <th>Accuracy</th>\n",
       "    </tr>\n",
       "  </thead>\n",
       "  <tbody>\n",
       "    <tr>\n",
       "      <th>8</th>\n",
       "      <td>100.0</td>\n",
       "      <td>l1</td>\n",
       "      <td>0.777618</td>\n",
       "    </tr>\n",
       "  </tbody>\n",
       "</table>\n",
       "</div>"
      ],
      "text/plain": [
       "   Regularization Parameter Lambda L1 or L2  Accuracy\n",
       "8                            100.0       l1  0.777618"
      ]
     },
     "execution_count": 22,
     "metadata": {},
     "output_type": "execute_result"
    }
   ],
   "source": [
    "# Get accuracy\n",
    "dat[dat[\"Accuracy\"] == max(dat[\"Accuracy\"])]"
   ]
  },
  {
   "cell_type": "code",
   "execution_count": 23,
   "metadata": {},
   "outputs": [
    {
     "data": {
      "text/plain": [
       "0.4683984785951283"
      ]
     },
     "execution_count": 23,
     "metadata": {},
     "output_type": "execute_result"
    }
   ],
   "source": [
    "# Percentage of 0's\n",
    "1 - (sum(y_train) / len(y_train))"
   ]
  },
  {
   "cell_type": "code",
   "execution_count": 47,
   "metadata": {},
   "outputs": [
    {
     "data": {
      "text/plain": [
       "33.0"
      ]
     },
     "execution_count": 47,
     "metadata": {},
     "output_type": "execute_result"
    }
   ],
   "source": [
    "# Get median for binarize\n",
    "np.median(y_train)"
   ]
  },
  {
   "cell_type": "code",
   "execution_count": 48,
   "metadata": {},
   "outputs": [],
   "source": [
    "# Binarize on median\n",
    "y_train = [1 if i > 33 else 0 for i in y_train]\n",
    "y_test = [1 if i > 33 else 0 for i in y_test]"
   ]
  },
  {
   "cell_type": "code",
   "execution_count": 51,
   "metadata": {},
   "outputs": [],
   "source": [
    "# Logistic with median binarize\n",
    "from sklearn.metrics import accuracy_score\n",
    "dat = pd.DataFrame(columns=[\"Regularization Parameter Lambda\", \"L1 or L2\", \"Accuracy\"])\n",
    "l = 0\n",
    "    # Get intitial vocabulary\n",
    "for i in np.logspace(-6,6,13):\n",
    "    modell1 = LogisticRegression(C=i, solver=\"liblinear\", multi_class=\"auto\", penalty=\"l1\", tol=0.015)\n",
    "    modell1.fit(X_train, y_train)\n",
    "    preds = modell1.predict(X_test)\n",
    "    dat.loc[l] = [(1/i), \"l1\", accuracy_score(y_test, preds)]\n",
    "    l+=1\n",
    "    \n",
    "    modell2 = LogisticRegression(C=i, solver=\"liblinear\", multi_class=\"auto\", penalty=\"l2\", tol=0.015)\n",
    "    modell2.fit(X_train, y_train)\n",
    "    preds = modell2.predict(X_test)\n",
    "    dat.loc[l] = [(1/i), \"l2\", accuracy_score(y_test, preds)]\n",
    "    l+=1"
   ]
  },
  {
   "cell_type": "code",
   "execution_count": 52,
   "metadata": {},
   "outputs": [
    {
     "data": {
      "text/html": [
       "<div>\n",
       "<style scoped>\n",
       "    .dataframe tbody tr th:only-of-type {\n",
       "        vertical-align: middle;\n",
       "    }\n",
       "\n",
       "    .dataframe tbody tr th {\n",
       "        vertical-align: top;\n",
       "    }\n",
       "\n",
       "    .dataframe thead th {\n",
       "        text-align: right;\n",
       "    }\n",
       "</style>\n",
       "<table border=\"1\" class=\"dataframe\">\n",
       "  <thead>\n",
       "    <tr style=\"text-align: right;\">\n",
       "      <th></th>\n",
       "      <th>Regularization Parameter Lambda</th>\n",
       "      <th>L1 or L2</th>\n",
       "      <th>Accuracy</th>\n",
       "    </tr>\n",
       "  </thead>\n",
       "  <tbody>\n",
       "    <tr>\n",
       "      <th>24</th>\n",
       "      <td>0.000001</td>\n",
       "      <td>l1</td>\n",
       "      <td>0.768201</td>\n",
       "    </tr>\n",
       "  </tbody>\n",
       "</table>\n",
       "</div>"
      ],
      "text/plain": [
       "    Regularization Parameter Lambda L1 or L2  Accuracy\n",
       "24                         0.000001       l1  0.768201"
      ]
     },
     "execution_count": 52,
     "metadata": {},
     "output_type": "execute_result"
    }
   ],
   "source": [
    "# Get accuracy\n",
    "dat[dat[\"Accuracy\"] == max(dat[\"Accuracy\"])]"
   ]
  },
  {
   "cell_type": "code",
   "execution_count": 65,
   "metadata": {},
   "outputs": [],
   "source": [
    "# Attempt for Naive Bayes, not to be included probably\n",
    "y_train = [0 if i < 20 else 1 if (i < 40 and i >= 20) else 2 if (i < 60 and i >= 40) else 3 if (i < 80 and i >= 60) else 4 for i in y_train]\n",
    "y_test = [0 if i < 20 else 1 if (i < 40 and i >= 20) else 2 if (i < 60 and i >= 40) else 3 if (i < 80 and i >= 60) else 4 for i in y_test]"
   ]
  },
  {
   "cell_type": "code",
   "execution_count": 68,
   "metadata": {},
   "outputs": [
    {
     "name": "stderr",
     "output_type": "stream",
     "text": [
      "C:\\Users\\Isaac\\Anaconda3\\lib\\site-packages\\ipykernel_launcher.py:1: SettingWithCopyWarning: \n",
      "A value is trying to be set on a copy of a slice from a DataFrame.\n",
      "Try using .loc[row_indexer,col_indexer] = value instead\n",
      "\n",
      "See the caveats in the documentation: http://pandas.pydata.org/pandas-docs/stable/indexing.html#indexing-view-versus-copy\n",
      "  \"\"\"Entry point for launching an IPython kernel.\n",
      "C:\\Users\\Isaac\\Anaconda3\\lib\\site-packages\\ipykernel_launcher.py:2: SettingWithCopyWarning: \n",
      "A value is trying to be set on a copy of a slice from a DataFrame.\n",
      "Try using .loc[row_indexer,col_indexer] = value instead\n",
      "\n",
      "See the caveats in the documentation: http://pandas.pydata.org/pandas-docs/stable/indexing.html#indexing-view-versus-copy\n",
      "  \n"
     ]
    }
   ],
   "source": [
    "X_train[\"loudness\"] = X_train[\"loudness\"] + 60\n",
    "X_test[\"loudness\"] = X_test[\"loudness\"] + 60"
   ]
  },
  {
   "cell_type": "code",
   "execution_count": 69,
   "metadata": {},
   "outputs": [
    {
     "name": "stdout",
     "output_type": "stream",
     "text": [
      "Alpha value is:  1e-05\n",
      "Accuracy Score: 0.19810487905361662\n",
      "RMSE:  2.329173363044798\n",
      "-----------------------------------------------------------------\n",
      "Alpha value is:  0.0001\n",
      "Accuracy Score: 0.19810487905361662\n",
      "RMSE:  2.329173363044798\n",
      "-----------------------------------------------------------------\n",
      "Alpha value is:  0.001\n",
      "Accuracy Score: 0.19810487905361662\n",
      "RMSE:  2.329173363044798\n",
      "-----------------------------------------------------------------\n",
      "Alpha value is:  0.01\n",
      "Accuracy Score: 0.19810487905361662\n",
      "RMSE:  2.329173363044798\n",
      "-----------------------------------------------------------------\n",
      "Alpha value is:  0.1\n",
      "Accuracy Score: 0.19810487905361662\n",
      "RMSE:  2.329173363044798\n",
      "-----------------------------------------------------------------\n",
      "Alpha value is:  0.5\n",
      "Accuracy Score: 0.19810487905361662\n",
      "RMSE:  2.329173363044798\n",
      "-----------------------------------------------------------------\n",
      "Alpha value is:  1\n",
      "Accuracy Score: 0.19804602436584073\n",
      "RMSE:  2.3293249690351763\n",
      "-----------------------------------------------------------------\n",
      "Alpha value is:  2\n",
      "Accuracy Score: 0.19804602436584073\n",
      "RMSE:  2.3294702488506154\n",
      "-----------------------------------------------------------------\n",
      "Alpha value is:  5\n",
      "Accuracy Score: 0.1977223235830734\n",
      "RMSE:  2.330417503766941\n",
      "-----------------------------------------------------------------\n",
      "Alpha value is:  10\n",
      "Accuracy Score: 0.19748690483196987\n",
      "RMSE:  2.331440106795194\n",
      "-----------------------------------------------------------------\n"
     ]
    }
   ],
   "source": [
    "# Multinomial attempt\n",
    "from sklearn.naive_bayes import MultinomialNB\n",
    "\n",
    "# Work for Naive Bayes Bucketing\n",
    "alphas = [0.00001, 0.0001, 0.001, 0.01, 0.1, 0.5, 1,2,5,10]\n",
    "for a in alphas:\n",
    "    new_model = MultinomialNB(alpha = a)\n",
    "    new_model.fit(X_train, y_train)\n",
    "    y_pred = new_model.predict(X_test)\n",
    "    print(\"Alpha value is: \", a)\n",
    "    print(\"Accuracy Score:\", new_model.score(X_test, y_test))\n",
    "    print(\"RMSE: \", np.sqrt(metrics.mean_squared_error(y_test, y_pred)))\n",
    "    print(\"-\" * 65)"
   ]
  },
  {
   "cell_type": "code",
   "execution_count": 72,
   "metadata": {},
   "outputs": [
    {
     "name": "stdout",
     "output_type": "stream",
     "text": [
      "Alpha value is:  1e-05\n",
      "Accuracy Score: 0.19810487905361662\n",
      "RMSE:  2.329173363044798\n",
      "-----------------------------------------------------------------\n",
      "Alpha value is:  0.0001\n",
      "Accuracy Score: 0.19810487905361662\n",
      "RMSE:  2.329173363044798\n",
      "-----------------------------------------------------------------\n",
      "Alpha value is:  0.001\n",
      "Accuracy Score: 0.19810487905361662\n",
      "RMSE:  2.329173363044798\n",
      "-----------------------------------------------------------------\n",
      "Alpha value is:  0.01\n",
      "Accuracy Score: 0.19810487905361662\n",
      "RMSE:  2.329173363044798\n",
      "-----------------------------------------------------------------\n",
      "Alpha value is:  0.1\n",
      "Accuracy Score: 0.19810487905361662\n",
      "RMSE:  2.329173363044798\n",
      "-----------------------------------------------------------------\n",
      "Alpha value is:  0.5\n",
      "Accuracy Score: 0.19810487905361662\n",
      "RMSE:  2.329173363044798\n",
      "-----------------------------------------------------------------\n",
      "Alpha value is:  1\n",
      "Accuracy Score: 0.19804602436584073\n",
      "RMSE:  2.3293249690351763\n",
      "-----------------------------------------------------------------\n",
      "Alpha value is:  2\n",
      "Accuracy Score: 0.19804602436584073\n",
      "RMSE:  2.3294702488506154\n",
      "-----------------------------------------------------------------\n",
      "Alpha value is:  5\n",
      "Accuracy Score: 0.1977223235830734\n",
      "RMSE:  2.330417503766941\n",
      "-----------------------------------------------------------------\n",
      "Alpha value is:  10\n",
      "Accuracy Score: 0.19748690483196987\n",
      "RMSE:  2.331440106795194\n",
      "-----------------------------------------------------------------\n"
     ]
    }
   ],
   "source": [
    "alphas = [0.00001, 0.0001, 0.001, 0.01, 0.1, 0.5, 1,2,5,10]\n",
    "for a in alphas:\n",
    "    new_model = MultinomialNB(alpha = a)\n",
    "    new_model.fit(X_train, y_train)\n",
    "    y_pred = new_model.predict(X_test)\n",
    "    print(\"Alpha value is: \", a)\n",
    "    print(\"Accuracy Score:\", accuracy_score(y_pred, y_test))\n",
    "    print(\"RMSE: \", np.sqrt(metrics.mean_squared_error(y_test, y_pred)))\n",
    "    print(\"-\" * 65)"
   ]
  },
  {
   "cell_type": "code",
   "execution_count": 71,
   "metadata": {},
   "outputs": [
    {
     "data": {
      "text/plain": [
       "[2, 0, 1, 1, 1]"
      ]
     },
     "execution_count": 71,
     "metadata": {},
     "output_type": "execute_result"
    }
   ],
   "source": [
    "y_train[0:5]"
   ]
  },
  {
   "cell_type": "code",
   "execution_count": 73,
   "metadata": {},
   "outputs": [
    {
     "data": {
      "text/plain": [
       "array([4, 1, 4, 0, 2])"
      ]
     },
     "execution_count": 73,
     "metadata": {},
     "output_type": "execute_result"
    }
   ],
   "source": [
    "y_pred[0:5]"
   ]
  },
  {
   "cell_type": "code",
   "execution_count": null,
   "metadata": {},
   "outputs": [],
   "source": []
  }
 ],
 "metadata": {
  "kernelspec": {
   "display_name": "Python 3",
   "language": "python",
   "name": "python3"
  },
  "language_info": {
   "codemirror_mode": {
    "name": "ipython",
    "version": 3
   },
   "file_extension": ".py",
   "mimetype": "text/x-python",
   "name": "python",
   "nbconvert_exporter": "python",
   "pygments_lexer": "ipython3",
   "version": "3.7.1"
  }
 },
 "nbformat": 4,
 "nbformat_minor": 2
}
